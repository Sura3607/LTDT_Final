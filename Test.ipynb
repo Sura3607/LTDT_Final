{
 "cells": [
  {
   "cell_type": "code",
   "execution_count": null,
   "metadata": {},
   "outputs": [],
   "source": [
    "from pymongo import MongoClient\n",
    "from bson.objectid import ObjectId\n",
    "import Database\n",
    "import pandas as pd\n",
    "import numpy as np\n",
    "import sys\n",
    "import Database\n",
    "import Algorithm\n",
    "import json\n",
    "\n"
   ]
  },
  {
   "cell_type": "code",
   "execution_count": 3,
   "metadata": {},
   "outputs": [],
   "source": [
    "try:\n",
    "    collection = Database.Connect()\n",
    "    #all_data = collection.find().sort(\"name\",1)\n",
    "except Exception as e:\n",
    "    print(\"Kết nối thất bại!\")\n",
    "    sys.exit(1)\n",
    "\n",
    "# adj_list, vertices, edges = Database.Load_Graph(collection,'674c805de3251455aa5d1c95')\n",
    "# #print(adj_list)\n",
    "\n",
    "# edges_list = Database.adj_list_to_edges_list(adj_list,vertices)\n",
    "# for v_f,v_t,w in edges_list:\n",
    "#     print(f\"{v_f} {v_t} {w}\")"
   ]
  },
  {
   "cell_type": "code",
   "execution_count": 3,
   "metadata": {},
   "outputs": [],
   "source": [
    "\n",
    "# Kết nối đến Neo4j Aura\n",
    "NEO4J_URI = \"neo4j+s://45b7324c.databases.neo4j.io\"  # Thay bằng URI từ Neo4j Aura\n",
    "USERNAME = \"neo4j\"\n",
    "PASSWORD = \"5l5KqmekdQxJ9vSz5sR8dQeGciU-rFBk61pt8b47IYk\"  # Thay bằng mật khẩu của bạn\n",
    "\n",
    "driver = GraphDatabase.driver(NEO4J_URI, auth=(USERNAME, PASSWORD))"
   ]
  },
  {
   "cell_type": "code",
   "execution_count": 8,
   "metadata": {},
   "outputs": [
    {
     "name": "stderr",
     "output_type": "stream",
     "text": [
      "C:\\Users\\ASUS\\AppData\\Local\\Temp\\ipykernel_17572\\2203686074.py:2: DeprecationWarning: Using a driver after it has been closed is deprecated. Future versions of the driver will raise an error.\n",
      "  with driver.session() as session:\n"
     ]
    },
    {
     "name": "stdout",
     "output_type": "stream",
     "text": [
      "Đã xóa toàn bộ dữ liệu.\n"
     ]
    }
   ],
   "source": [
    "def delete_all_data():\n",
    "    with driver.session() as session:\n",
    "        session.run(\"MATCH (n) DETACH DELETE n\")\n",
    "        print(\"Đã xóa toàn bộ dữ liệu.\")\n",
    "\n",
    "# Thực thi\n",
    "delete_all_data()"
   ]
  },
  {
   "cell_type": "code",
   "execution_count": 9,
   "metadata": {},
   "outputs": [
    {
     "name": "stderr",
     "output_type": "stream",
     "text": [
      "C:\\Users\\ASUS\\AppData\\Local\\Temp\\ipykernel_17572\\1949779598.py:7: DeprecationWarning: Using a driver after it has been closed is deprecated. Future versions of the driver will raise an error.\n",
      "  with driver.session() as session:\n"
     ]
    },
    {
     "name": "stdout",
     "output_type": "stream",
     "text": [
      "Đã tải đồ thị với _id: 673616adf36b60bb91cb64a0 (Mohammed’s scimitars) lên Neo4j.\n",
      "Đã tải đồ thị với _id: 6736178bf36b60bb91cb64a2 (Möbius Graph) lên Neo4j.\n",
      "Đã tải đồ thị với _id: 67361a0ef36b60bb91cb64a7 (Clebsch Graph) lên Neo4j.\n",
      "Đã tải đồ thị với _id: 674823178732f13e3bace2c4 (Graph01) lên Neo4j.\n",
      "Đã tải đồ thị với _id: 674c74cee3251455aa5d1c90 (Graph02) lên Neo4j.\n",
      "Đã tải đồ thị với _id: 674c775ce3251455aa5d1c91 (Graph03) lên Neo4j.\n",
      "Đã tải đồ thị với _id: 674c7dfae3251455aa5d1c92 (Graph04) lên Neo4j.\n",
      "Đã tải đồ thị với _id: 674c7eebe3251455aa5d1c93 (Graph05) lên Neo4j.\n",
      "Đã tải đồ thị với _id: 674c7f97e3251455aa5d1c94 (Graph06) lên Neo4j.\n",
      "Đã tải đồ thị với _id: 674c805de3251455aa5d1c95 (Graph07) lên Neo4j.\n",
      "Đã tải đồ thị với _id: 674c80f1e3251455aa5d1c96 (Graph08) lên Neo4j.\n",
      "Đã tải đồ thị với _id: 674c8236e3251455aa5d1c97 (Graph09) lên Neo4j.\n",
      "Đã tải đồ thị với _id: 674c82d1e3251455aa5d1c98 (Graph10) lên Neo4j.\n",
      "Đã tải đồ thị với _id: 674c8407e3251455aa5d1c99 (Graph11) lên Neo4j.\n",
      "Đã tải đồ thị với _id: 674c84c7e3251455aa5d1c9a (Graph12) lên Neo4j.\n",
      "Đã tải đồ thị với _id: 674c8632e0e23c92abe7fc06 (Graph33) lên Neo4j.\n",
      "Đã tải đồ thị với _id: 674c88bae0e23c92abe7fc07 (Graph34) lên Neo4j.\n",
      "Đã tải đồ thị với _id: 674c8a3ee3251455aa5d1c9b (Graph13) lên Neo4j.\n",
      "Đã tải đồ thị với _id: 674c8ac9e3251455aa5d1c9c (Graph14) lên Neo4j.\n",
      "Đã tải đồ thị với _id: 674c8b7de0e23c92abe7fc08 (Graph35) lên Neo4j.\n",
      "Đã tải đồ thị với _id: 674c8c0be0e23c92abe7fc09 (Graph36) lên Neo4j.\n",
      "Đã tải đồ thị với _id: 674c8c44e0e23c92abe7fc0a (Graph37) lên Neo4j.\n",
      "Đã tải đồ thị với _id: 674c8c89e3251455aa5d1c9d (Graph15) lên Neo4j.\n",
      "Đã tải đồ thị với _id: 674c8d5de3251455aa5d1c9e (Graph16) lên Neo4j.\n",
      "Đã tải đồ thị với _id: 674c8f31e0e23c92abe7fc0b (Graph38) lên Neo4j.\n",
      "Đã tải đồ thị với _id: 674c8f41e0e23c92abe7fc0c (Graph39) lên Neo4j.\n",
      "Đã tải đồ thị với _id: 674c8f49e0e23c92abe7fc0d (Graph40) lên Neo4j.\n",
      "Đã tải đồ thị với _id: 674c8f58e0e23c92abe7fc0e (Graph41) lên Neo4j.\n",
      "Đã tải đồ thị với _id: 674c8f5be0e23c92abe7fc0f (Graph42) lên Neo4j.\n",
      "Đã tải đồ thị với _id: 674c910752c240d5d3fd7dd6 (Graph 17) lên Neo4j.\n",
      "Đã tải đồ thị với _id: 674c910c52c240d5d3fd7dd7 (Graph 18) lên Neo4j.\n",
      "Đã tải đồ thị với _id: 674c911052c240d5d3fd7dd8 (Graph 19) lên Neo4j.\n",
      "Đã tải đồ thị với _id: 674c913852c240d5d3fd7dd9 (Graph_20) lên Neo4j.\n",
      "Đã tải đồ thị với _id: 674c914352c240d5d3fd7ddc (Graph_23) lên Neo4j.\n",
      "Đã tải đồ thị với _id: 674c915052c240d5d3fd7ddd (Graph_24) lên Neo4j.\n",
      "Đã tải đồ thị với _id: 674c918652c240d5d3fd7ddf (Graph_25) lên Neo4j.\n",
      "Đã tải đồ thị với _id: 674c918c52c240d5d3fd7de0 (Graph_26) lên Neo4j.\n",
      "Đã tải đồ thị với _id: 674c922852c240d5d3fd7de1 (Graph_27) lên Neo4j.\n",
      "Đã tải đồ thị với _id: 674c926552c240d5d3fd7de2 (Graph_28) lên Neo4j.\n",
      "Đã tải đồ thị với _id: 674c929e52c240d5d3fd7de3 (Graph_29) lên Neo4j.\n",
      "Đã tải đồ thị với _id: 674c92cc52c240d5d3fd7de4 (Graph_30) lên Neo4j.\n",
      "Đã tải đồ thị với _id: 674c931e52c240d5d3fd7de6 (Graph_32) lên Neo4j.\n",
      "Đã tải đồ thị với _id: 674c9488e0e23c92abe7fc10 (Graph43) lên Neo4j.\n",
      "Đã tải đồ thị với _id: 674c948ae0e23c92abe7fc11 (Graph44) lên Neo4j.\n",
      "Đã tải đồ thị với _id: 674c948ce0e23c92abe7fc12 (Graph45) lên Neo4j.\n",
      "Đã tải đồ thị với _id: 674c9490e0e23c92abe7fc13 (Graph46) lên Neo4j.\n",
      "Đã tải đồ thị với _id: 674c9496e0e23c92abe7fc14 (Graph47) lên Neo4j.\n",
      "Đã tải đồ thị với _id: 674df8fbb2c1143f2130cf15 (Graph_Test_DFS_BFS) lên Neo4j.\n"
     ]
    }
   ],
   "source": [
    "\n",
    "\n",
    "def upload_to_neo4j(json_file):\n",
    "    # Đọc file JSON\n",
    "    with open(json_file, \"r\", encoding=\"utf-8\") as file:\n",
    "        data = json.load(file)\n",
    "\n",
    "    # Kết nối với Neo4j\n",
    "    with driver.session() as session:\n",
    "        for graph_data in data:\n",
    "            graph_id = graph_data[\"_id\"]\n",
    "            graph_name = graph_data[\"name\"]  # Tên đồ thị\n",
    "            directed = 'directed' in graph_data.get('tags', [])\n",
    "            edges = graph_data[\"edges\"]\n",
    "\n",
    "            # Tạo node cho đồ thị\n",
    "            session.run(\"\"\"\n",
    "                MERGE (g:Graph {id: $graph_id, name: $graph_name})\n",
    "            \"\"\", graph_id=graph_id, graph_name=graph_name)\n",
    "\n",
    "            # Tạo các đỉnh và cạnh trong Neo4j\n",
    "            for edge in edges:\n",
    "                v_from = edge[\"v_from\"]\n",
    "                v_to = edge[\"v_to\"]\n",
    "                weight = edge[\"weight\"]\n",
    "\n",
    "                # Tạo các đỉnh với thuộc tính `graph_id` và liên kết với đồ thị\n",
    "                session.run(\"\"\"\n",
    "                    MERGE (a:Node {name: $v_from, graph_id: $graph_id})\n",
    "                    MERGE (b:Node {name: $v_to, graph_id: $graph_id})\n",
    "                    MERGE (g:Graph {id: $graph_id})\n",
    "                    MERGE (g)-[:CONTAINS]->(a)\n",
    "                    MERGE (g)-[:CONTAINS]->(b)\n",
    "                \"\"\", v_from=v_from, v_to=v_to, graph_id=graph_id)\n",
    "\n",
    "                # Tạo các cạnh giữa các đỉnh\n",
    "                if directed:\n",
    "                    session.run(\"\"\"\n",
    "                        MERGE (a:Node {name: $v_from, graph_id: $graph_id})\n",
    "                        MERGE (b:Node {name: $v_to, graph_id: $graph_id})\n",
    "                        MERGE (a)-[:CONNECTED {weight: $weight}]->(b)\n",
    "                    \"\"\", v_from=v_from, v_to=v_to, graph_id=graph_id, weight=weight)\n",
    "                else:\n",
    "                    session.run(\"\"\"\n",
    "                        MERGE (a:Node {name: $v_from, graph_id: $graph_id})\n",
    "                        MERGE (b:Node {name: $v_to, graph_id: $graph_id})\n",
    "                        MERGE (a)-[:CONNECTED {weight: $weight}]->(b)\n",
    "                        MERGE (b)-[:CONNECTED {weight: $weight}]->(a)\n",
    "                    \"\"\", v_from=v_from, v_to=v_to, graph_id=graph_id, weight=weight)\n",
    "\n",
    "            print(f\"Đã tải đồ thị với _id: {graph_id} ({graph_name}) lên Neo4j.\")\n",
    "\n",
    "\n",
    "# Thực thi\n",
    "json_file = \"database.json\"\n",
    "upload_to_neo4j(json_file)\n",
    "\n",
    "# Đóng kết nối\n",
    "driver.close()\n"
   ]
  },
  {
   "cell_type": "code",
   "execution_count": 10,
   "metadata": {},
   "outputs": [
    {
     "name": "stderr",
     "output_type": "stream",
     "text": [
      "C:\\Users\\ASUS\\AppData\\Local\\Temp\\ipykernel_17572\\3072559520.py:2: DeprecationWarning: Using a driver after it has been closed is deprecated. Future versions of the driver will raise an error.\n",
      "  with driver.session() as session:\n"
     ]
    },
    {
     "name": "stdout",
     "output_type": "stream",
     "text": [
      "ID: 673616adf36b60bb91cb64a0, Tên: Mohammed’s scimitars, Số đỉnh: 11\n",
      "ID: 6736178bf36b60bb91cb64a2, Tên: Möbius Graph, Số đỉnh: 6\n",
      "ID: 67361a0ef36b60bb91cb64a7, Tên: Clebsch Graph, Số đỉnh: 16\n",
      "ID: 674823178732f13e3bace2c4, Tên: Graph01, Số đỉnh: 5\n",
      "ID: 674c74cee3251455aa5d1c90, Tên: Graph02, Số đỉnh: 50\n",
      "ID: 674c775ce3251455aa5d1c91, Tên: Graph03, Số đỉnh: 6\n",
      "ID: 674c7dfae3251455aa5d1c92, Tên: Graph04, Số đỉnh: 17\n",
      "ID: 674c7eebe3251455aa5d1c93, Tên: Graph05, Số đỉnh: 4\n",
      "ID: 674c7f97e3251455aa5d1c94, Tên: Graph06, Số đỉnh: 6\n",
      "ID: 674c805de3251455aa5d1c95, Tên: Graph07, Số đỉnh: 8\n",
      "ID: 674c80f1e3251455aa5d1c96, Tên: Graph08, Số đỉnh: 5\n",
      "ID: 674c8236e3251455aa5d1c97, Tên: Graph09, Số đỉnh: 6\n",
      "ID: 674c82d1e3251455aa5d1c98, Tên: Graph10, Số đỉnh: 9\n",
      "ID: 674c8407e3251455aa5d1c99, Tên: Graph11, Số đỉnh: 11\n",
      "ID: 674c84c7e3251455aa5d1c9a, Tên: Graph12, Số đỉnh: 6\n",
      "ID: 674c8632e0e23c92abe7fc06, Tên: Graph33, Số đỉnh: 8\n",
      "ID: 674c88bae0e23c92abe7fc07, Tên: Graph34, Số đỉnh: 12\n",
      "ID: 674c8a3ee3251455aa5d1c9b, Tên: Graph13, Số đỉnh: 9\n",
      "ID: 674c8ac9e3251455aa5d1c9c, Tên: Graph14, Số đỉnh: 12\n",
      "ID: 674c8b7de0e23c92abe7fc08, Tên: Graph35, Số đỉnh: 15\n",
      "ID: 674c8c0be0e23c92abe7fc09, Tên: Graph36, Số đỉnh: 20\n",
      "ID: 674c8c44e0e23c92abe7fc0a, Tên: Graph37, Số đỉnh: 25\n",
      "ID: 674c8c89e3251455aa5d1c9d, Tên: Graph15, Số đỉnh: 8\n",
      "ID: 674c8d5de3251455aa5d1c9e, Tên: Graph16, Số đỉnh: 9\n",
      "ID: 674c8f31e0e23c92abe7fc0b, Tên: Graph38, Số đỉnh: 35\n",
      "ID: 674c8f41e0e23c92abe7fc0c, Tên: Graph39, Số đỉnh: 36\n",
      "ID: 674c8f49e0e23c92abe7fc0d, Tên: Graph40, Số đỉnh: 37\n",
      "ID: 674c8f58e0e23c92abe7fc0e, Tên: Graph41, Số đỉnh: 38\n",
      "ID: 674c8f5be0e23c92abe7fc0f, Tên: Graph42, Số đỉnh: 39\n",
      "ID: 674c910752c240d5d3fd7dd6, Tên: Graph 17, Số đỉnh: 14\n",
      "ID: 674c910c52c240d5d3fd7dd7, Tên: Graph 18, Số đỉnh: 14\n",
      "ID: 674c911052c240d5d3fd7dd8, Tên: Graph 19, Số đỉnh: 8\n",
      "ID: 674c913852c240d5d3fd7dd9, Tên: Graph_20, Số đỉnh: 8\n",
      "ID: 674c914352c240d5d3fd7ddc, Tên: Graph_23, Số đỉnh: 6\n",
      "ID: 674c915052c240d5d3fd7ddd, Tên: Graph_24, Số đỉnh: 8\n",
      "ID: 674c918652c240d5d3fd7ddf, Tên: Graph_25, Số đỉnh: 8\n",
      "ID: 674c918c52c240d5d3fd7de0, Tên: Graph_26, Số đỉnh: 16\n",
      "ID: 674c922852c240d5d3fd7de1, Tên: Graph_27, Số đỉnh: 9\n",
      "ID: 674c926552c240d5d3fd7de2, Tên: Graph_28, Số đỉnh: 12\n",
      "ID: 674c929e52c240d5d3fd7de3, Tên: Graph_29, Số đỉnh: 10\n",
      "ID: 674c92cc52c240d5d3fd7de4, Tên: Graph_30, Số đỉnh: 6\n",
      "ID: 674c931e52c240d5d3fd7de6, Tên: Graph_32, Số đỉnh: 10\n",
      "ID: 674c9488e0e23c92abe7fc10, Tên: Graph43, Số đỉnh: 40\n",
      "ID: 674c948ae0e23c92abe7fc11, Tên: Graph44, Số đỉnh: 34\n",
      "ID: 674c948ce0e23c92abe7fc12, Tên: Graph45, Số đỉnh: 42\n",
      "ID: 674c9490e0e23c92abe7fc13, Tên: Graph46, Số đỉnh: 36\n",
      "ID: 674c9496e0e23c92abe7fc14, Tên: Graph47, Số đỉnh: 44\n",
      "ID: 674df8fbb2c1143f2130cf15, Tên: Graph_Test_DFS_BFS, Số đỉnh: 14\n"
     ]
    }
   ],
   "source": [
    "def fetch_graph_data():\n",
    "    with driver.session() as session:\n",
    "        # Truy vấn Cypher\n",
    "        query = \"\"\"\n",
    "        MATCH (g:Graph)-[:CONTAINS]->(n:Node)\n",
    "        RETURN g.id AS graph_id, g.name AS graph_name, COUNT(n) AS node_count\n",
    "        \"\"\"\n",
    "        results = session.run(query)\n",
    "        \n",
    "        # In dữ liệu\n",
    "        for record in results:\n",
    "            print(f\"ID: {record['graph_id']}, Tên: {record['graph_name']}, Số đỉnh: {record['node_count']}\")\n",
    "\n",
    "# Thực thi\n",
    "fetch_graph_data()"
   ]
  },
  {
   "cell_type": "code",
   "execution_count": null,
   "metadata": {},
   "outputs": [
    {
     "name": "stdout",
     "output_type": "stream",
     "text": [
      "Danh sách kề có trọng số:\n",
      "{'v01': [('v02', 1), ('v05', 1), ('v06', 1)], 'v02': [('v01', 1), ('v06', 1), ('v03', 1), ('v07', 1)], 'v05': [('v01', 1), ('v06', 1)], 'v06': [('v01', 1), ('v02', 1), ('v05', 1)], 'v03': [('v02', 1), ('v07', 1), ('v04', 1)], 'v07': [('v02', 1), ('v03', 1), ('v04', 1)], 'v04': [('v03', 1), ('v07', 1), ('v08', 1)], 'v08': [('v04', 1)], 'v09': [('v10', 1), ('v11', 1), ('v12', 1)], 'v10': [('v09', 1)], 'v11': [('v09', 1)], 'v12': [('v09', 1), ('v13', 1), ('v14', 1)], 'v13': [('v12', 1), ('v14', 1)], 'v14': [('v12', 1), ('v13', 1)]}\n"
     ]
    },
    {
     "name": "stderr",
     "output_type": "stream",
     "text": [
      "C:\\Users\\ASUS\\AppData\\Local\\Temp\\ipykernel_17572\\1377589945.py:2: DeprecationWarning: Using a driver after it has been closed is deprecated. Future versions of the driver will raise an error.\n",
      "  with driver.session() as session:\n"
     ]
    }
   ],
   "source": [
    "def get_adjacency_list(graph_id):\n",
    "    with driver.session() as session:\n",
    "        # Truy vấn các cạnh của đồ thị\n",
    "        query = \"\"\"\n",
    "        MATCH (g:Graph {id: $graph_id})-[:CONTAINS]->(n1:Node)\n",
    "        MATCH (n1)-[r:CONNECTED]->(n2:Node)\n",
    "        RETURN n1.name AS from_node, n2.name AS to_node, r.weight AS weight\n",
    "        \"\"\"\n",
    "        results = session.run(query, graph_id=graph_id)\n",
    "        \n",
    "        # Xây dựng danh sách kề\n",
    "        adj_list = {}\n",
    "        for record in results:\n",
    "            from_node = record[\"from_node\"]\n",
    "            to_node = record[\"to_node\"]\n",
    "            weight = record[\"weight\"]\n",
    "            \n",
    "            # Thêm vào danh sách kề\n",
    "            if from_node not in adjacency_list:\n",
    "                adj_list[from_node] = []\n",
    "            adj_list[from_node].append((to_node, weight))\n",
    "        \n",
    "        return adjacency_list\n",
    "\n",
    "# Thực thi\n",
    "adjacency_list = get_adjacency_list(\"674df8fbb2c1143f2130cf15\")\n",
    "print(\"Danh sách kề có trọng số:\")\n",
    "print(adjacency_list)"
   ]
  },
  {
   "cell_type": "code",
   "execution_count": null,
   "metadata": {},
   "outputs": [],
   "source": []
  }
 ],
 "metadata": {
  "kernelspec": {
   "display_name": "Python 3",
   "language": "python",
   "name": "python3"
  },
  "language_info": {
   "codemirror_mode": {
    "name": "ipython",
    "version": 3
   },
   "file_extension": ".py",
   "mimetype": "text/x-python",
   "name": "python",
   "nbconvert_exporter": "python",
   "pygments_lexer": "ipython3",
   "version": "3.12.4"
  }
 },
 "nbformat": 4,
 "nbformat_minor": 2
}
